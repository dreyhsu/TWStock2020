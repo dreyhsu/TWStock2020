{
 "metadata": {
  "language_info": {
   "codemirror_mode": {
    "name": "ipython",
    "version": 3
   },
   "file_extension": ".py",
   "mimetype": "text/x-python",
   "name": "python",
   "nbconvert_exporter": "python",
   "pygments_lexer": "ipython3",
   "version": "3.8.5-final"
  },
  "orig_nbformat": 2,
  "kernelspec": {
   "name": "python3",
   "display_name": "Python 3",
   "language": "python"
  }
 },
 "nbformat": 4,
 "nbformat_minor": 2,
 "cells": [
  {
   "cell_type": "code",
   "execution_count": 47,
   "metadata": {},
   "outputs": [],
   "source": [
    "import sqlite3\n",
    "import pandas as pd\n",
    "from datetime import date\n",
    "\n",
    "today = date.today()\n",
    "# dd/mm/YY\n",
    "d1 = today.strftime(\"%Y%m%d\")"
   ]
  },
  {
   "cell_type": "code",
   "execution_count": 34,
   "metadata": {},
   "outputs": [
    {
     "output_type": "execute_result",
     "data": {
      "text/plain": [
       "'20210104'"
      ]
     },
     "metadata": {},
     "execution_count": 34
    }
   ],
   "source": [
    "d1"
   ]
  },
  {
   "cell_type": "code",
   "execution_count": 48,
   "metadata": {},
   "outputs": [],
   "source": [
    "path = 'C:/Users/Drey/Documents/Python Scripts/TW_stock/db/stock.db'\n",
    "def id_list(table):\n",
    "    conn = sqlite3.connect(path)\n",
    "    try:\n",
    "        df = pd.read_sql(con=conn, sql=(f'SELECT DISTINCT ID FROM {table} '))\n",
    "        return df['ID']\n",
    "    finally:\n",
    "        conn.close()\n",
    "\n",
    "def fetch_db(stock_id, table):\n",
    "    conn = sqlite3.connect(path)\n",
    "    try:\n",
    "        df = pd.read_sql(con=conn, sql=(f'SELECT Date,Close,Open,High,Low,Volume FROM {table} '\n",
    "                                        f'WHERE ID = \"{stock_id}\" ORDER BY Date'))\n",
    "        return df\n",
    "    finally:\n",
    "        conn.close()"
   ]
  },
  {
   "cell_type": "code",
   "execution_count": 7,
   "metadata": {},
   "outputs": [],
   "source": [
    "industry = pd.read_csv(\"上市產業.csv\", encoding='utf-8-sig')\n",
    "ind_list = industry.Industry.unique()"
   ]
  },
  {
   "cell_type": "code",
   "execution_count": 61,
   "metadata": {},
   "outputs": [],
   "source": [
    "percent_list = []\n",
    "id_list = []\n",
    "table = 'price'\n",
    "ID = 1477   \n",
    "df = fetch_db(ID, table)\n",
    "close = df.Close.to_list()\n",
    "percent_list.append(round(((close[-1]-close[-5])/close[-5])*100, 2))\n",
    "id_list.append(ID)\n",
    "df = pd.DataFrame(list(zip(id_list, percent_list)), columns =['ID', 'Percent']) "
   ]
  },
  {
   "cell_type": "code",
   "execution_count": 62,
   "metadata": {},
   "outputs": [],
   "source": [
    "df['Date'] = '20201203'"
   ]
  },
  {
   "cell_type": "code",
   "execution_count": 65,
   "metadata": {},
   "outputs": [],
   "source": [
    "df['ID'] = df.ID.astype(str)"
   ]
  },
  {
   "cell_type": "code",
   "execution_count": 71,
   "metadata": {},
   "outputs": [
    {
     "output_type": "execute_result",
     "data": {
      "text/plain": [
       "     ID  Percent      Date\n",
       "0  1477     2.15  20201203"
      ],
      "text/html": "<div>\n<style scoped>\n    .dataframe tbody tr th:only-of-type {\n        vertical-align: middle;\n    }\n\n    .dataframe tbody tr th {\n        vertical-align: top;\n    }\n\n    .dataframe thead th {\n        text-align: right;\n    }\n</style>\n<table border=\"1\" class=\"dataframe\">\n  <thead>\n    <tr style=\"text-align: right;\">\n      <th></th>\n      <th>ID</th>\n      <th>Percent</th>\n      <th>Date</th>\n    </tr>\n  </thead>\n  <tbody>\n    <tr>\n      <th>0</th>\n      <td>1477</td>\n      <td>2.15</td>\n      <td>20201203</td>\n    </tr>\n  </tbody>\n</table>\n</div>"
     },
     "metadata": {},
     "execution_count": 71
    }
   ],
   "source": [
    "df"
   ]
  },
  {
   "cell_type": "code",
   "execution_count": 73,
   "metadata": {},
   "outputs": [],
   "source": [
    "ind1 = pd.read_csv(\"產業全.csv\", encoding='utf-8-sig', index_col=0)\n",
    "res = pd.merge(df,ind1, on='ID')"
   ]
  },
  {
   "cell_type": "code",
   "execution_count": 91,
   "metadata": {},
   "outputs": [
    {
     "output_type": "execute_result",
     "data": {
      "text/plain": [
       "     ID  Percent      Date  Unnamed: 0.1 Industry Name\n",
       "0  1477     2.15  20201203           100     紡織纖維   聚陽"
      ],
      "text/html": "<div>\n<style scoped>\n    .dataframe tbody tr th:only-of-type {\n        vertical-align: middle;\n    }\n\n    .dataframe tbody tr th {\n        vertical-align: top;\n    }\n\n    .dataframe thead th {\n        text-align: right;\n    }\n</style>\n<table border=\"1\" class=\"dataframe\">\n  <thead>\n    <tr style=\"text-align: right;\">\n      <th></th>\n      <th>ID</th>\n      <th>Percent</th>\n      <th>Date</th>\n      <th>Unnamed: 0.1</th>\n      <th>Industry</th>\n      <th>Name</th>\n    </tr>\n  </thead>\n  <tbody>\n    <tr>\n      <th>0</th>\n      <td>1477</td>\n      <td>2.15</td>\n      <td>20201203</td>\n      <td>100</td>\n      <td>紡織纖維</td>\n      <td>聚陽</td>\n    </tr>\n  </tbody>\n</table>\n</div>"
     },
     "metadata": {},
     "execution_count": 91
    }
   ],
   "source": [
    "res"
   ]
  },
  {
   "cell_type": "code",
   "execution_count": 89,
   "metadata": {},
   "outputs": [],
   "source": [
    "def check_date(stock_id, table, d1):\n",
    "    conn = sqlite3.connect(path)\n",
    "    try:\n",
    "        last_date = pd.read_sql(con=conn, sql=f\"SELECT Date FROM {table} where ID = '{stock_id}' ORDER BY Date DESC LIMIT 1\")\n",
    "        print(str(last_date.iloc[0,0]))\n",
    "        if str(last_date.iloc[0,0]) == d1:\n",
    "            return True\n",
    "        else:\n",
    "            return False\n",
    "    finally:\n",
    "        conn.close()"
   ]
  },
  {
   "cell_type": "code",
   "execution_count": 90,
   "metadata": {},
   "outputs": [
    {
     "output_type": "stream",
     "name": "stdout",
     "text": [
      "20201203\n"
     ]
    },
    {
     "output_type": "execute_result",
     "data": {
      "text/plain": [
       "True"
      ]
     },
     "metadata": {},
     "execution_count": 90
    }
   ],
   "source": [
    "d1 = '20201203'\n",
    "stock_id = '0050'\n",
    "table = 'price'\n",
    "check_date(stock_id, table, d1)"
   ]
  },
  {
   "cell_type": "code",
   "execution_count": null,
   "metadata": {},
   "outputs": [],
   "source": [
    "d1 = '20201203'\n",
    "# table_list = ['price', 'te_price']\n",
    "table_list = ['price']\n",
    "percent_list = []\n",
    "ID_list = []\n",
    "ind1 = pd.read_csv(\"venv\\產業全.csv\", encoding='utf-8-sig', index_col=0)\n",
    "# print(ind1.head())\n",
    "for table in table_list:\n",
    "    lstFiles = id_list(table)\n",
    "    for stock_id in lstFiles[:300]:\n",
    "        # print(stock_id)\n",
    "        # 先確認此股票是否更新到最新日期\n",
    "        if len(stock_id) == 4 and check_date(stock_id, table, d1):\n",
    "            # 取得價格資訊\n",
    "            df = fetch_db(stock_id, table)\n",
    "            close = df.Close.to_list()\n",
    "            percent_list.append(round(((close[-1]-close[-5])/close[-5])*100, 2))\n",
    "            ID_list.append(stock_id)\n",
    "            # if above_ma5_closeunder20(df):\n",
    "            #     # 取得此股票10日內漲幅\n",
    "            #     close = df.Close.to_list()\n",
    "            #     percent_list.append(round(((close[-1]-close[-5])/close[-5])*100, 2))\n",
    "            #     ID_list.append(stock_id)\n",
    "                # s_ind = ind1[ind1.ID == stock_id].Industry.iloc[0]\n",
    "                # fig_plot(df, stock_id)\n",
    "\n",
    "high_df = pd.DataFrame(list(zip(ID_list, percent_list)), columns =['ID', 'Percent']) \n",
    "high_df['ID'] = high_df.ID.astype(str)\n",
    "high_df['Date'] = d1\n",
    "high_df.to_csv(\"venv/test.csv\", encoding='utf-8-sig')\n",
    "print(high_df.tail())\n",
    "ind1['ID'] = ind1.ID.astype(str)\n",
    "res = pd.merge(high_df,ind1, on='ID')\n",
    "res.to_csv(\"venv/ind_high.csv\", encoding='utf-8-sig')"
   ]
  }
 ]
}